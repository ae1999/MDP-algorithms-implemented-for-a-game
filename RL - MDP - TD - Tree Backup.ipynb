{
 "cells": [
  {
   "cell_type": "markdown",
   "metadata": {},
   "source": [
    "RL Fall 99"
   ]
  },
  {
   "cell_type": "markdown",
   "metadata": {},
   "source": [
    "Homework #4 - MDP"
   ]
  },
  {
   "cell_type": "markdown",
   "metadata": {},
   "source": [
    "Ali Elahi SID: 810696336"
   ]
  },
  {
   "cell_type": "markdown",
   "metadata": {},
   "source": [
    "TD - Tree Backup"
   ]
  },
  {
   "cell_type": "markdown",
   "metadata": {},
   "source": [
    "# Importing essential libraries"
   ]
  },
  {
   "cell_type": "code",
   "execution_count": 1,
   "metadata": {},
   "outputs": [],
   "source": [
    "import random\n",
    "import pprint\n",
    "import io\n",
    "import numpy as np\n",
    "import sys\n",
    "import numpy as np\n",
    "from gym.envs.toy_text import discrete\n",
    "from colorama import Fore, Back, Style\n",
    "import matplotlib.pyplot as plt\n",
    "import bisect\n",
    "from tqdm import tqdm"
   ]
  },
  {
   "cell_type": "code",
   "execution_count": 2,
   "metadata": {},
   "outputs": [],
   "source": [
    "from amalearn.environment import MutliArmedBanditEnvironment\n",
    "from amalearn.environment import EnvironmentBase\n",
    "from amalearn.reward import GaussianReward\n",
    "from amalearn.agent import RandomBanditAgent\n",
    "from amalearn.agent import AgentBase"
   ]
  },
  {
   "cell_type": "markdown",
   "metadata": {},
   "source": [
    "# Utils"
   ]
  },
  {
   "cell_type": "code",
   "execution_count": 3,
   "metadata": {},
   "outputs": [],
   "source": [
    "def sliding_window(x):\n",
    "    returns = []\n",
    "    for i in range(len(x)-20):\n",
    "        returns.append(np.array(x[i:i+20]).mean())\n",
    "    return returns"
   ]
  },
  {
   "cell_type": "markdown",
   "metadata": {},
   "source": [
    "# Class definitions"
   ]
  },
  {
   "cell_type": "code",
   "execution_count": 4,
   "metadata": {},
   "outputs": [],
   "source": [
    "actions = {\n",
    "    0: 'U',\n",
    "    1: 'R',\n",
    "    2: 'D',\n",
    "    3: 'L'\n",
    "}"
   ]
  },
  {
   "cell_type": "code",
   "execution_count": 5,
   "metadata": {},
   "outputs": [],
   "source": [
    "%run Environment.ipynb"
   ]
  },
  {
   "cell_type": "code",
   "execution_count": 6,
   "metadata": {},
   "outputs": [],
   "source": [
    "class Tree_backup_Agent(AgentBase):\n",
    "    def __init__(self, id, environment, action_definition, gamma, n_step = 1):\n",
    "        super(Tree_backup_Agent, self).__init__(id, environment)\n",
    "        \n",
    "        self.Q = np.zeros((100, 4))\n",
    "        self.episode_num = 0\n",
    "        self.policy = np.ones((100, 4)) / len(action_definition)\n",
    "        self.alpha = 0.5\n",
    "        self.gamma = gamma\n",
    "        self.epsilon = 1\n",
    "        self.n_step = n_step\n",
    "    \n",
    "    def show(self):\n",
    "        print(self.Q1[:10])\n",
    "        print(self.Q2[:10])\n",
    "        # print(self.Returns)\n",
    "        print(self.policy)\n",
    "        # print(self.episode_num)\n",
    "    \n",
    "    def show_policy(self):\n",
    "        for i in range(10):\n",
    "            for j in range(10):\n",
    "                if (i, j) in [(1,3), (4, 1), (6,2)] :\n",
    "                    print(\"•\", end = \" \")\n",
    "                elif (i, j) in [(3,3), (3,4), (3,5), (4,3), (5,3), (5,4)] :\n",
    "                    print(\"█\", end = \" \")\n",
    "                else:\n",
    "                    print(actions[np.argmax(self.policy[10 * i + j])], end = \" \")\n",
    "            print()\n",
    "        \n",
    "    def update_epsilon(self, x):\n",
    "        x /= 20\n",
    "        return 2 ** (1 - int(x)/30) / 2\n",
    "    \n",
    "    def get_action(self, state):\n",
    "        return np.random.choice(4, 1, p = self.policy[state])[0]\n",
    "    \n",
    "    def update_policy(self):\n",
    "        self.epsilon = self.update_epsilon(self.episode_num)\n",
    "        for s in range(100):\n",
    "            self.policy[s] = self.epsilon / 4\n",
    "            self.policy[s][np.argmax(self.Q[s])] += (1 - self.epsilon)\n",
    "    \n",
    "    def update_state_ploicy(self, s, a):\n",
    "        self.epsilon = self.update_epsilon(self.episode_num)\n",
    "        self.policy[s] = self.epsilon / 4\n",
    "        self.policy[s][a] += (1 - self.epsilon)\n",
    "    \n",
    "    def take_action(self, s = 45) -> (object, float, bool, object):\n",
    "        self.episode_num += 1\n",
    "        terminate = False\n",
    "        self.environment.reset()\n",
    "        G = 0\n",
    "        while True:\n",
    "            R = 0\n",
    "            act = self.get_action(s)\n",
    "            ns0, r0, done, info = self.environment.step(act)\n",
    "            G = self.gamma * G + r0\n",
    "            R += r0\n",
    "            \n",
    "            if terminate:\n",
    "                break\n",
    "            if done:\n",
    "                terminate = True\n",
    "            \n",
    "            for i in range(self.n_step):\n",
    "                act1 = self.get_action(ns0)\n",
    "                ns1, r1, done, info = self.environment.step(act1)\n",
    "                G = self.gamma * G + r1\n",
    "                R += self.gamma * r1\n",
    "                acts = [0,1,2,3]\n",
    "                # acts.remove(act1)\n",
    "                act1 = self.get_action(s)\n",
    "                expected = (self.gamma ** (i+1)) * np.array([self.policy[ns0][i] * self.Q[ns0][i] for i in acts]).sum()\n",
    "            \n",
    "            self.Q[s][act] += \\\n",
    "            self.alpha * (R + expected - self.Q[s][act])\n",
    "            \n",
    "            s = ns1\n",
    "            if terminate:\n",
    "                break\n",
    "            if done:\n",
    "                terminate = True\n",
    "            \n",
    "        self.update_policy()\n",
    "        return G"
   ]
  },
  {
   "cell_type": "markdown",
   "metadata": {},
   "source": [
    "# Runing Algorithms"
   ]
  },
  {
   "cell_type": "code",
   "execution_count": 7,
   "metadata": {},
   "outputs": [],
   "source": [
    "environment = GridworldEnv()\n",
    "agent = Tree_backup_Agent('1', environment, actions, 1, 1)"
   ]
  },
  {
   "cell_type": "code",
   "execution_count": 8,
   "metadata": {},
   "outputs": [
    {
     "name": "stderr",
     "output_type": "stream",
     "text": [
      "100%|██████████| 1500/1500 [00:46<00:00, 31.92it/s] \n"
     ]
    }
   ],
   "source": [
    "Gs = []\n",
    "for i in tqdm(range(1500)):\n",
    "    Gs.append(agent.take_action())"
   ]
  },
  {
   "cell_type": "code",
   "execution_count": 9,
   "metadata": {},
   "outputs": [],
   "source": [
    "environment = GridworldEnv()\n",
    "agent = Tree_backup_Agent('1', environment, actions, 1, 2)"
   ]
  },
  {
   "cell_type": "code",
   "execution_count": 10,
   "metadata": {},
   "outputs": [
    {
     "name": "stderr",
     "output_type": "stream",
     "text": [
      "100%|██████████| 1500/1500 [01:06<00:00, 22.55it/s] \n"
     ]
    }
   ],
   "source": [
    "Gs2 = []\n",
    "for i in tqdm(range(1500)):\n",
    "    Gs2.append(agent.take_action())"
   ]
  },
  {
   "cell_type": "code",
   "execution_count": 13,
   "metadata": {},
   "outputs": [
    {
     "data": {
      "image/png": "[encoded data removed]",
      "text/plain": [
       "<Figure size 432x288 with 1 Axes>"
      ]
     },
     "metadata": {},
     "output_type": "display_data"
    }
   ],
   "source": [
    "plt.plot(sliding_window(Gs), label = 'n_step = 1')\n",
    "plt.plot(sliding_window(Gs2), label = 'n_step = 2')\n",
    "plt.title('Tree Backup Algorithm')\n",
    "plt.xlabel('# Episodes')\n",
    "plt.ylabel('Reward')\n",
    "plt.legend()\n",
    "plt.show()"
   ]
  },
  {
   "cell_type": "code",
   "execution_count": 12,
   "metadata": {},
   "outputs": [
    {
     "name": "stdout",
     "output_type": "stream",
     "text": [
      "Policy:\n",
      "\n",
      "U L L L L L L L L L \n",
      "U U L • U U U L L U \n",
      "U U L L R U U U U U \n",
      "U U U █ █ █ U U U U \n",
      "U • U █ R R R U L U \n",
      "D L L █ █ R U U U L \n",
      "D D • D D R R R U U \n",
      "D D D D D D R R U U \n",
      "D D D D R R R U R U \n",
      "L R R R R R R R R U \n"
     ]
    }
   ],
   "source": [
    "print('Policy:')\n",
    "print()\n",
    "agent.show_policy()"
   ]
  }
 ],
 "metadata": {
  "kernelspec": {
   "display_name": "Python 3",
   "language": "python",
   "name": "python3"
  },
  "language_info": {
   "codemirror_mode": {
    "name": "ipython",
    "version": 3
   },
   "file_extension": ".py",
   "mimetype": "text/x-python",
   "name": "python",
   "nbconvert_exporter": "python",
   "pygments_lexer": "ipython3",
   "version": "3.7.6"
  }
 },
 "nbformat": 4,
 "nbformat_minor": 2
}
