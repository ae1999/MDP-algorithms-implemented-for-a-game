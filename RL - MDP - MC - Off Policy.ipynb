{
 "cells": [
  {
   "cell_type": "markdown",
   "metadata": {},
   "source": [
    "RL Fall 99"
   ]
  },
  {
   "cell_type": "markdown",
   "metadata": {},
   "source": [
    "Homework #4 - MDP"
   ]
  },
  {
   "cell_type": "markdown",
   "metadata": {},
   "source": [
    "Ali Elahi SID: 810696336"
   ]
  },
  {
   "cell_type": "markdown",
   "metadata": {},
   "source": [
    "MC - Off Policy"
   ]
  },
  {
   "cell_type": "markdown",
   "metadata": {},
   "source": [
    "# Importing essential libraries"
   ]
  },
  {
   "cell_type": "code",
   "execution_count": 1,
   "metadata": {},
   "outputs": [],
   "source": [
    "import random\n",
    "import pprint\n",
    "import io\n",
    "import numpy as np\n",
    "import sys\n",
    "import numpy as np\n",
    "from gym.envs.toy_text import discrete\n",
    "from colorama import Fore, Back, Style\n",
    "import matplotlib.pyplot as plt\n",
    "import bisect\n",
    "from tqdm import tqdm"
   ]
  },
  {
   "cell_type": "code",
   "execution_count": 2,
   "metadata": {},
   "outputs": [],
   "source": [
    "from amalearn.environment import MutliArmedBanditEnvironment\n",
    "from amalearn.environment import EnvironmentBase\n",
    "from amalearn.reward import GaussianReward\n",
    "from amalearn.agent import RandomBanditAgent\n",
    "from amalearn.agent import AgentBase"
   ]
  },
  {
   "cell_type": "markdown",
   "metadata": {},
   "source": [
    "# Utils"
   ]
  },
  {
   "cell_type": "code",
   "execution_count": 4,
   "metadata": {},
   "outputs": [],
   "source": [
    "def sliding_window(x):\n",
    "    returns = []\n",
    "    for i in range(len(x)-20):\n",
    "        returns.append(np.array(x[i:i+20]).mean())\n",
    "    return returns"
   ]
  },
  {
   "cell_type": "markdown",
   "metadata": {},
   "source": [
    "# Class definitions"
   ]
  },
  {
   "cell_type": "code",
   "execution_count": 5,
   "metadata": {},
   "outputs": [],
   "source": [
    "actions = {\n",
    "    0: 'U',\n",
    "    1: 'R',\n",
    "    2: 'D',\n",
    "    3: 'L'\n",
    "}"
   ]
  },
  {
   "cell_type": "code",
   "execution_count": 6,
   "metadata": {},
   "outputs": [],
   "source": [
    "%run Environment.ipynb"
   ]
  },
  {
   "cell_type": "code",
   "execution_count": 7,
   "metadata": {},
   "outputs": [],
   "source": [
    "class MC_OffP_Agent(AgentBase):\n",
    "    def __init__(self, id, environment, action_definition, gamma):\n",
    "        super(MC_OffP_Agent, self).__init__(id, environment)\n",
    "        \n",
    "        self.Q = np.zeros((100, 4))\n",
    "        self.C = np.zeros((100, 4))\n",
    "        self.episode_num = 0\n",
    "        self.behaviour = np.ones((100, 4)) / len(action_definition)\n",
    "        self.policy = np.ones(100) * 3\n",
    "        self.gamma = gamma\n",
    "        self.epsilon = 1\n",
    "    \n",
    "    def show_policy(self):\n",
    "        for i in range(10):\n",
    "            for j in range(10):\n",
    "                if (i, j) in [(1,3), (4, 1), (6,2)] :\n",
    "                    print(\"•\", end = \" \")\n",
    "                elif (i, j) in [(3,3), (3,4), (3,5), (4,3), (5,3), (5,4)] :\n",
    "                    print(\"█\", end = \" \")\n",
    "                else:\n",
    "                    print(actions[self.policy[10 * i + j]], end = \" \")\n",
    "            print()\n",
    "        \n",
    "    def update_epsilon(self, x):\n",
    "        x /= 40\n",
    "        return 2 ** (1 - int(x)/40) / 2\n",
    "    \n",
    "    def get_action(self, state):\n",
    "        return np.random.choice(4, 1, p = self.behaviour[state])[0]\n",
    "    \n",
    "    def create_behaviour(self):\n",
    "        self.epsilon = self.update_epsilon(self.episode_num)\n",
    "        for s in range(100):\n",
    "            self.behaviour[s] = self.epsilon / 4\n",
    "            self.behaviour[s][np.argmax(self.Q[s])] += (1 - self.epsilon)\n",
    "    \n",
    "    def update_ploicy(self, s, a):\n",
    "        self.epsilon = self.update_epsilon(self.episode_num)\n",
    "        self.policy[s] = self.epsilon / 4\n",
    "        self.policy[s][a] += (1 - self.epsilon)\n",
    "    \n",
    "    def generate_episode(self, state = 45):\n",
    "        self.environment.reset()\n",
    "        terminate = False\n",
    "        states_actions = []\n",
    "        rewards = []\n",
    "        while True:\n",
    "            current = {}\n",
    "            states_actions.append((state, self.get_action(state)))\n",
    "            state, reward, done, info = self.environment.step(states_actions[-1][1])\n",
    "            rewards.append(reward)\n",
    "            if terminate:\n",
    "                break\n",
    "            if done:\n",
    "                terminate = True\n",
    "        return states_actions, rewards\n",
    "    \n",
    "    def take_action(self) -> (object, float, bool, object):\n",
    "        self.episode_num += 1\n",
    "        G = 0\n",
    "        W = 1\n",
    "        self.create_behaviour()\n",
    "        states_actions, rewards = self.generate_episode()\n",
    "        for i in range(len(states_actions) - 1, -1, -1):\n",
    "            state, action = states_actions[i][0], states_actions[i][1]\n",
    "            G = self.gamma * G + rewards[i]\n",
    "            self.C[state][action] += W\n",
    "            self.Q[state][action] += (W / self.C[state][action]) * (G - self.Q[state][action])\n",
    "            if action != self.policy[state]:\n",
    "                break\n",
    "            W *= (1 / self.behaviour[state][action])\n",
    "        for s in range(100):\n",
    "            self.policy[s] = np.argmax(self.Q[s])\n",
    "        return G"
   ]
  },
  {
   "cell_type": "markdown",
   "metadata": {},
   "source": [
    "# Runing Algorithms"
   ]
  },
  {
   "cell_type": "code",
   "execution_count": 8,
   "metadata": {},
   "outputs": [],
   "source": [
    "environment = GridworldEnv()\n",
    "agent = MC_OffP_Agent('1', environment, actions, 1)"
   ]
  },
  {
   "cell_type": "code",
   "execution_count": 9,
   "metadata": {},
   "outputs": [
    {
     "name": "stderr",
     "output_type": "stream",
     "text": [
      "100%|██████████| 1200/1200 [00:25<00:00, 46.37it/s]\n"
     ]
    }
   ],
   "source": [
    "Gs = []\n",
    "for i in tqdm(range(1200)):\n",
    "    Gs.append(agent.take_action())"
   ]
  },
  {
   "cell_type": "code",
   "execution_count": 10,
   "metadata": {},
   "outputs": [
    {
     "data": {
      "text/plain": [
       "[<matplotlib.lines.Line2D at 0x12403a690>]"
      ]
     },
     "execution_count": 10,
     "metadata": {},
     "output_type": "execute_result"
    },
    {
     "data": {
      "image/png": "[encoded data removed]",
      "text/plain": [
       "<Figure size 432x288 with 1 Axes>"
      ]
     },
     "metadata": {},
     "output_type": "display_data"
    }
   ],
   "source": [
    "plt.plot(Gs)"
   ]
  },
  {
   "cell_type": "code",
   "execution_count": 11,
   "metadata": {},
   "outputs": [
    {
     "name": "stdout",
     "output_type": "stream",
     "text": [
      "U U L L U U U U U U \n",
      "U U U • U U U U U U \n",
      "U D U U U U U U U U \n",
      "U U L █ █ █ U U U U \n",
      "U • U █ U U U U U U \n",
      "U U U █ █ U U U U U \n",
      "U U • U U U U U U U \n",
      "U U U U U U U U U U \n",
      "U U U U U U U U U U \n",
      "U U U U U U U U U U \n"
     ]
    }
   ],
   "source": [
    "agent.show_policy()"
   ]
  }
 ],
 "metadata": {
  "kernelspec": {
   "display_name": "Python 3",
   "language": "python",
   "name": "python3"
  },
  "language_info": {
   "codemirror_mode": {
    "name": "ipython",
    "version": 3
   },
   "file_extension": ".py",
   "mimetype": "text/x-python",
   "name": "python",
   "nbconvert_exporter": "python",
   "pygments_lexer": "ipython3",
   "version": "3.7.6"
  }
 },
 "nbformat": 4,
 "nbformat_minor": 2
}
