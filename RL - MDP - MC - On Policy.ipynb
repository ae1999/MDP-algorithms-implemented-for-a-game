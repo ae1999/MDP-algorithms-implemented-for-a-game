{
 "cells": [
  {
   "cell_type": "markdown",
   "metadata": {},
   "source": [
    "RL Fall 99"
   ]
  },
  {
   "cell_type": "markdown",
   "metadata": {},
   "source": [
    "Homework #4 - MDP"
   ]
  },
  {
   "cell_type": "markdown",
   "metadata": {},
   "source": [
    "Ali Elahi SID: 810696336"
   ]
  },
  {
   "cell_type": "markdown",
   "metadata": {},
   "source": [
    "MC - On Policy"
   ]
  },
  {
   "cell_type": "markdown",
   "metadata": {},
   "source": [
    "# Importing essential libraries"
   ]
  },
  {
   "cell_type": "code",
   "execution_count": 1,
   "metadata": {},
   "outputs": [],
   "source": [
    "import random\n",
    "import pprint\n",
    "import io\n",
    "import numpy as np\n",
    "import sys\n",
    "import numpy as np\n",
    "from gym.envs.toy_text import discrete\n",
    "from colorama import Fore, Back, Style\n",
    "import matplotlib.pyplot as plt\n",
    "import bisect\n",
    "from tqdm import tqdm"
   ]
  },
  {
   "cell_type": "code",
   "execution_count": 2,
   "metadata": {},
   "outputs": [],
   "source": [
    "from amalearn.environment import MutliArmedBanditEnvironment\n",
    "from amalearn.environment import EnvironmentBase\n",
    "from amalearn.reward import GaussianReward\n",
    "from amalearn.agent import RandomBanditAgent\n",
    "from amalearn.agent import AgentBase"
   ]
  },
  {
   "cell_type": "markdown",
   "metadata": {},
   "source": [
    "# Utils"
   ]
  },
  {
   "cell_type": "code",
   "execution_count": 4,
   "metadata": {},
   "outputs": [],
   "source": [
    "def sliding_window(x):\n",
    "    returns = []\n",
    "    for i in range(len(x)-20):\n",
    "        returns.append(np.array(x[i:i+20]).mean())\n",
    "    return returns"
   ]
  },
  {
   "cell_type": "markdown",
   "metadata": {},
   "source": [
    "# Class definitions"
   ]
  },
  {
   "cell_type": "code",
   "execution_count": 5,
   "metadata": {},
   "outputs": [],
   "source": [
    "actions = {\n",
    "    0: 'U',\n",
    "    1: 'R',\n",
    "    2: 'D',\n",
    "    3: 'L'\n",
    "}"
   ]
  },
  {
   "cell_type": "code",
   "execution_count": 6,
   "metadata": {},
   "outputs": [],
   "source": [
    "%run Environment.ipynb"
   ]
  },
  {
   "cell_type": "code",
   "execution_count": 7,
   "metadata": {},
   "outputs": [],
   "source": [
    "class MC_OP_Agent(AgentBase):\n",
    "    def __init__(self, id, environment, action_definition, gamma):\n",
    "        super(MC_OP_Agent, self).__init__(id, environment)\n",
    "        self.Q = np.zeros((100, 4))\n",
    "        self.Returns = [[[] for i in range(4)] for j in range(100)]\n",
    "        self.episode_num = 0\n",
    "        self.policy = np.ones((100, 4)) / len(action_definition)\n",
    "        self.gamma = gamma\n",
    "        self.epsilon = 1\n",
    "    \n",
    "    def show(self):\n",
    "        # print(self.Q[:10])\n",
    "        # print(self.Returns)\n",
    "        print(self.policy)\n",
    "        # print(self.episode_num)\n",
    "    \n",
    "    def show_policy(self):\n",
    "        for i in range(10):\n",
    "            for j in range(10):\n",
    "                if (i, j) in [(1,3), (4, 1), (6,2)] :\n",
    "                    print(\"•\", end = \" \")\n",
    "                elif (i, j) in [(3,3), (3,4), (3,5), (4,3), (5,3), (5,4)] :\n",
    "                    print(\"█\", end = \" \")\n",
    "                else:\n",
    "                    print(actions[np.argmax(self.policy[10 * i + j])], end = \" \")\n",
    "            print()\n",
    "        \n",
    "    def update_epsilon(self, x):\n",
    "        x /= 10\n",
    "        return 2 ** (1 - x/40) / 2\n",
    "        #return (4 - (int(x) / 120) ** 2) / 4\n",
    "    \n",
    "    def get_action(self, state):\n",
    "        return np.random.choice(4, 1, p = self.policy[state])[0]\n",
    "    \n",
    "    def update_ploicy2(self):\n",
    "        for ss in range(100):\n",
    "            mm = abs(self.Q[ss].sum()) + 1\n",
    "            sigma = np.exp(self.Q[ss] / mm).sum()\n",
    "            for i in range(4):\n",
    "                self.policy[ss][i] = np.exp(self.Q[ss][i] / mm) / sigma\n",
    "    \n",
    "    def update_ploicy(self, s, a):\n",
    "        self.epsilon = self.update_epsilon(self.episode_num)\n",
    "        self.policy[s] = self.epsilon / 4\n",
    "        self.policy[s][a] += (1 - self.epsilon)\n",
    "    \n",
    "    def generate_episode(self, state = 45):\n",
    "        self.environment.reset()\n",
    "        terminate = False\n",
    "        states_actions = []\n",
    "        rewards = []\n",
    "        while True:\n",
    "            current = {}\n",
    "            states_actions.append((state, self.get_action(state)))\n",
    "            state, reward, done, info = self.environment.step(states_actions[-1][1])\n",
    "            rewards.append(reward)\n",
    "            if terminate:\n",
    "                break\n",
    "            if done:\n",
    "                terminate = True\n",
    "        return states_actions, rewards\n",
    "    \n",
    "    def take_action(self) -> (object, float, bool, object):\n",
    "        self.episode_num += 1\n",
    "        \n",
    "        G = 0\n",
    "        states_actions, rewards = self.generate_episode()\n",
    "        for i in range(len(states_actions) - 1, -1, -1):\n",
    "            G = self.gamma * G + rewards[i]\n",
    "            if states_actions[i] not in states_actions[0:i]:\n",
    "                self.Returns[states_actions[i][0]][states_actions[i][1]].append(G)\n",
    "                # print(states_actions[i][0], states_actions[i][1], np.array(self.Returns[states_actions[i][0]][states_actions[i][1]]))\n",
    "                self.Q[states_actions[i][0]][states_actions[i][1]] = \\\n",
    "                np.array(self.Returns[states_actions[i][0]][states_actions[i][1]]).mean()\n",
    "                self.update_ploicy(states_actions[i][0], np.argmax(self.Q[states_actions[i][0]]))\n",
    "        return G"
   ]
  },
  {
   "cell_type": "markdown",
   "metadata": {},
   "source": [
    "# Runing Algorithms"
   ]
  },
  {
   "cell_type": "code",
   "execution_count": 8,
   "metadata": {},
   "outputs": [],
   "source": [
    "environment = GridworldEnv()\n",
    "agent = MC_OP_Agent('1', environment, actions, 1)"
   ]
  },
  {
   "cell_type": "code",
   "execution_count": 9,
   "metadata": {},
   "outputs": [
    {
     "name": "stderr",
     "output_type": "stream",
     "text": [
      "100%|██████████| 1200/1200 [00:08<00:00, 134.51it/s]\n"
     ]
    }
   ],
   "source": [
    "Gs = []\n",
    "for i in tqdm(range(1200)):\n",
    "    Gs.append(agent.take_action())"
   ]
  },
  {
   "cell_type": "code",
   "execution_count": 10,
   "metadata": {},
   "outputs": [
    {
     "data": {
      "image/png": "[encoded data removed]",
      "text/plain": [
       "<Figure size 432x288 with 1 Axes>"
      ]
     },
     "metadata": {},
     "output_type": "display_data"
    }
   ],
   "source": [
    "plt.plot(sliding_window(Gs))\n",
    "plt.title('SARSA Algorithm')\n",
    "plt.xlabel('# Episodes')\n",
    "plt.ylabel('Reward')\n",
    "plt.show()"
   ]
  },
  {
   "cell_type": "code",
   "execution_count": 11,
   "metadata": {},
   "outputs": [
    {
     "name": "stdout",
     "output_type": "stream",
     "text": [
      "U L L L L L R U R U \n",
      "U U L • U L L R L D \n",
      "U U L L L R U D L L \n",
      "U U U █ █ █ U L D L \n",
      "U • U █ R R U U L R \n",
      "D L R █ █ R R R U D \n",
      "D L • D R R L U U U \n",
      "R R R D U R D R U U \n",
      "R R L D R R U R U D \n",
      "U D L L D U R L U D \n"
     ]
    }
   ],
   "source": [
    "agent.show_policy()"
   ]
  }
 ],
 "metadata": {
  "kernelspec": {
   "display_name": "Python 3",
   "language": "python",
   "name": "python3"
  },
  "language_info": {
   "codemirror_mode": {
    "name": "ipython",
    "version": 3
   },
   "file_extension": ".py",
   "mimetype": "text/x-python",
   "name": "python",
   "nbconvert_exporter": "python",
   "pygments_lexer": "ipython3",
   "version": "3.7.6"
  }
 },
 "nbformat": 4,
 "nbformat_minor": 2
}
